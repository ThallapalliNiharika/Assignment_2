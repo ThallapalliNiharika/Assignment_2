{
 "cells": [
  {
   "cell_type": "markdown",
   "id": "be115505",
   "metadata": {},
   "source": [
    "try to convert the whole string into lower case "
   ]
  },
  {
   "cell_type": "code",
   "execution_count": 1,
   "id": "46501cfa",
   "metadata": {},
   "outputs": [],
   "source": [
    "s1 = \"KL University\""
   ]
  },
  {
   "cell_type": "code",
   "execution_count": 2,
   "id": "e3e7e619",
   "metadata": {},
   "outputs": [
    {
     "data": {
      "text/plain": [
       "'KL University'"
      ]
     },
     "execution_count": 2,
     "metadata": {},
     "output_type": "execute_result"
    }
   ],
   "source": [
    "s1"
   ]
  },
  {
   "cell_type": "code",
   "execution_count": 3,
   "id": "611eb24f",
   "metadata": {},
   "outputs": [
    {
     "data": {
      "text/plain": [
       "'kl university'"
      ]
     },
     "execution_count": 3,
     "metadata": {},
     "output_type": "execute_result"
    }
   ],
   "source": [
    "s1.lower()"
   ]
  },
  {
   "cell_type": "markdown",
   "id": "20b9e0f7",
   "metadata": {},
   "source": [
    "Try to capitalize the whole string "
   ]
  },
  {
   "cell_type": "code",
   "execution_count": 5,
   "id": "6634fffb",
   "metadata": {},
   "outputs": [],
   "source": [
    "s2 = \"the rudest book Ever\" "
   ]
  },
  {
   "cell_type": "code",
   "execution_count": 6,
   "id": "9d0842ba",
   "metadata": {},
   "outputs": [
    {
     "data": {
      "text/plain": [
       "'the rudest book Ever'"
      ]
     },
     "execution_count": 6,
     "metadata": {},
     "output_type": "execute_result"
    }
   ],
   "source": [
    "s2"
   ]
  },
  {
   "cell_type": "code",
   "execution_count": 7,
   "id": "011c6308",
   "metadata": {},
   "outputs": [
    {
     "data": {
      "text/plain": [
       "'The rudest book ever'"
      ]
     },
     "execution_count": 7,
     "metadata": {},
     "output_type": "execute_result"
    }
   ],
   "source": [
    "s2.capitalize()"
   ]
  },
  {
   "cell_type": "markdown",
   "id": "914ade3c",
   "metadata": {},
   "source": [
    "Write a diference between isalnum() and isalpha() "
   ]
  },
  {
   "cell_type": "markdown",
   "id": "1fdce042",
   "metadata": {},
   "source": [
    "isalnum: A method that returns true if string has numbers.\n",
    "isalpha: A method that returns true if string has characters(alphabets)."
   ]
  },
  {
   "cell_type": "code",
   "execution_count": 8,
   "id": "0d4c71b7",
   "metadata": {},
   "outputs": [],
   "source": [
    "s3 = \"1234\""
   ]
  },
  {
   "cell_type": "code",
   "execution_count": 9,
   "id": "71b5df42",
   "metadata": {},
   "outputs": [
    {
     "data": {
      "text/plain": [
       "'1234'"
      ]
     },
     "execution_count": 9,
     "metadata": {},
     "output_type": "execute_result"
    }
   ],
   "source": [
    "s3"
   ]
  },
  {
   "cell_type": "code",
   "execution_count": 11,
   "id": "7a3a8b07",
   "metadata": {},
   "outputs": [
    {
     "name": "stdout",
     "output_type": "stream",
     "text": [
      "True\n"
     ]
    }
   ],
   "source": [
    "print(s3.isalnum())"
   ]
  },
  {
   "cell_type": "code",
   "execution_count": 12,
   "id": "80791d45",
   "metadata": {},
   "outputs": [
    {
     "name": "stdout",
     "output_type": "stream",
     "text": [
      "False\n"
     ]
    }
   ],
   "source": [
    "print(s3.isalpha())"
   ]
  },
  {
   "cell_type": "markdown",
   "id": "91355ed8",
   "metadata": {},
   "source": [
    "Try to give an example of expand tab"
   ]
  },
  {
   "cell_type": "code",
   "execution_count": 21,
   "id": "104f37b7",
   "metadata": {},
   "outputs": [],
   "source": [
    "s4 = \"H\\te\\tl\\tl\\to\""
   ]
  },
  {
   "cell_type": "code",
   "execution_count": 22,
   "id": "63a8a14c",
   "metadata": {},
   "outputs": [],
   "source": [
    "x = s4.expandtabs(15)"
   ]
  },
  {
   "cell_type": "code",
   "execution_count": 23,
   "id": "08b79f26",
   "metadata": {},
   "outputs": [
    {
     "name": "stdout",
     "output_type": "stream",
     "text": [
      "H              e              l              l              o\n"
     ]
    }
   ],
   "source": [
    "print(x)"
   ]
  },
  {
   "cell_type": "markdown",
   "id": "4c3b7351",
   "metadata": {},
   "source": [
    "Give an example of strip , lstrip and rstrip"
   ]
  },
  {
   "cell_type": "code",
   "execution_count": 27,
   "id": "513c6804",
   "metadata": {},
   "outputs": [],
   "source": [
    "s5 = \"****** Niharika*******\""
   ]
  },
  {
   "cell_type": "code",
   "execution_count": 28,
   "id": "382df741",
   "metadata": {},
   "outputs": [
    {
     "data": {
      "text/plain": [
       "'****** Niharika*******'"
      ]
     },
     "execution_count": 28,
     "metadata": {},
     "output_type": "execute_result"
    }
   ],
   "source": [
    "s5"
   ]
  },
  {
   "cell_type": "code",
   "execution_count": 29,
   "id": "935f7e45",
   "metadata": {},
   "outputs": [
    {
     "data": {
      "text/plain": [
       "' Niharika'"
      ]
     },
     "execution_count": 29,
     "metadata": {},
     "output_type": "execute_result"
    }
   ],
   "source": [
    "s5.strip('*')"
   ]
  },
  {
   "cell_type": "code",
   "execution_count": 31,
   "id": "c83f6298",
   "metadata": {},
   "outputs": [
    {
     "data": {
      "text/plain": [
       "' Niharika*******'"
      ]
     },
     "execution_count": 31,
     "metadata": {},
     "output_type": "execute_result"
    }
   ],
   "source": [
    "s5.lstrip(\"*\")"
   ]
  },
  {
   "cell_type": "code",
   "execution_count": 32,
   "id": "bf2eb305",
   "metadata": {},
   "outputs": [
    {
     "data": {
      "text/plain": [
       "'****** Niharika'"
      ]
     },
     "execution_count": 32,
     "metadata": {},
     "output_type": "execute_result"
    }
   ],
   "source": [
    "s5.rstrip(\"*\")"
   ]
  },
  {
   "cell_type": "markdown",
   "id": "c943f77d",
   "metadata": {},
   "source": [
    "Replace a string charecter by another charecter by taking your own example."
   ]
  },
  {
   "cell_type": "code",
   "execution_count": 33,
   "id": "b573e5dc",
   "metadata": {},
   "outputs": [],
   "source": [
    "s6 =\"Harry\""
   ]
  },
  {
   "cell_type": "code",
   "execution_count": 34,
   "id": "cae68e57",
   "metadata": {},
   "outputs": [
    {
     "data": {
      "text/plain": [
       "'Harry'"
      ]
     },
     "execution_count": 34,
     "metadata": {},
     "output_type": "execute_result"
    }
   ],
   "source": [
    "s6"
   ]
  },
  {
   "cell_type": "code",
   "execution_count": 35,
   "id": "2b3601d4",
   "metadata": {},
   "outputs": [
    {
     "data": {
      "text/plain": [
       "'Happy'"
      ]
     },
     "execution_count": 35,
     "metadata": {},
     "output_type": "execute_result"
    }
   ],
   "source": [
    "s6.replace('r','p')"
   ]
  },
  {
   "cell_type": "markdown",
   "id": "b0b168e9",
   "metadata": {},
   "source": [
    "Try to give a defination of string center function with and exmple"
   ]
  },
  {
   "cell_type": "markdown",
   "id": "c683704e",
   "metadata": {},
   "source": [
    "Alignment of a centre string with specified character"
   ]
  },
  {
   "cell_type": "code",
   "execution_count": 37,
   "id": "6dda7b6c",
   "metadata": {},
   "outputs": [],
   "source": [
    "s7 = \"Hello World\""
   ]
  },
  {
   "cell_type": "code",
   "execution_count": 38,
   "id": "60496afe",
   "metadata": {},
   "outputs": [
    {
     "data": {
      "text/plain": [
       "'Hello World'"
      ]
     },
     "execution_count": 38,
     "metadata": {},
     "output_type": "execute_result"
    }
   ],
   "source": [
    "s7"
   ]
  },
  {
   "cell_type": "code",
   "execution_count": 39,
   "id": "29bd2d84",
   "metadata": {},
   "outputs": [
    {
     "data": {
      "text/plain": [
       "'%%%%%%%%%Hello World%%%%%%%%%%'"
      ]
     },
     "execution_count": 39,
     "metadata": {},
     "output_type": "execute_result"
    }
   ],
   "source": [
    "s7.center(30,'%')"
   ]
  },
  {
   "cell_type": "code",
   "execution_count": null,
   "id": "181264f6",
   "metadata": {},
   "outputs": [],
   "source": []
  }
 ],
 "metadata": {
  "kernelspec": {
   "display_name": "Python 3 (ipykernel)",
   "language": "python",
   "name": "python3"
  },
  "language_info": {
   "codemirror_mode": {
    "name": "ipython",
    "version": 3
   },
   "file_extension": ".py",
   "mimetype": "text/x-python",
   "name": "python",
   "nbconvert_exporter": "python",
   "pygments_lexer": "ipython3",
   "version": "3.10.1"
  }
 },
 "nbformat": 4,
 "nbformat_minor": 5
}
